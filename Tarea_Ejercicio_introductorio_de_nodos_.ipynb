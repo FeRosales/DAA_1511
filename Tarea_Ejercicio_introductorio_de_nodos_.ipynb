{
  "nbformat": 4,
  "nbformat_minor": 0,
  "metadata": {
    "colab": {
      "name": "Tarea: Ejercicio introductorio de nodos.",
      "provenance": [],
      "collapsed_sections": [],
      "authorship_tag": "ABX9TyOEUcOqXjBS5G9Y0bWI7esU",
      "include_colab_link": true
    },
    "kernelspec": {
      "name": "python3",
      "display_name": "Python 3"
    },
    "language_info": {
      "name": "python"
    }
  },
  "cells": [
    {
      "cell_type": "markdown",
      "metadata": {
        "id": "view-in-github",
        "colab_type": "text"
      },
      "source": [
        "<a href=\"https://colab.research.google.com/github/FeRosales/DAA_1511/blob/main/Tarea_Ejercicio_introductorio_de_nodos_.ipynb\" target=\"_parent\"><img src=\"https://colab.research.google.com/assets/colab-badge.svg\" alt=\"Open In Colab\"/></a>"
      ]
    },
    {
      "cell_type": "code",
      "execution_count": 76,
      "metadata": {
        "id": "IynK9JmZfQU9"
      },
      "outputs": [],
      "source": [
        "class NodosTarea1:\n",
        "    def __init__( self, value, left=None, center=None, right=None ):\n",
        "        self.data = value\n",
        "        self.left = left\n",
        "        self.center = center\n",
        "        self.right = right"
      ]
    },
    {
      "cell_type": "code",
      "source": [
        "arbol = NodosTarea1(20,NodosTarea1(23, None, NodosTarea1(57), None ) , NodosTarea1(19, None, None, NodosTarea1(67, None, NodosTarea1(99), None)) , None)\n",
        "head = arbol\n",
        "while( head.left != None ):\n",
        "  head = head.left.center\n",
        "print( head.data )\n",
        "\n"
      ],
      "metadata": {
        "colab": {
          "base_uri": "https://localhost:8080/"
        },
        "id": "R3tkH0UjlE03",
        "outputId": "d27fb283-aac0-4e88-a7e2-f64f43fa86aa"
      },
      "execution_count": 77,
      "outputs": [
        {
          "output_type": "stream",
          "name": "stdout",
          "text": [
            "57\n"
          ]
        }
      ]
    },
    {
      "cell_type": "code",
      "source": [
        "arbol = NodosTarea1(20, NodosTarea1(23, None,  NodosTarea1(57), None ) ,  NodosTarea1(19, None, None,  NodosTarea1(67, None,  NodosTarea1(99), None)) , None)\n",
        "head = arbol\n",
        "while( head.left != None ):\n",
        "  head = head.center.right.center\n",
        "print( head.data )"
      ],
      "metadata": {
        "colab": {
          "base_uri": "https://localhost:8080/"
        },
        "id": "mqMuXpKjv5Pd",
        "outputId": "25ce6120-5af1-457a-91b5-c7c9ef867a1d"
      },
      "execution_count": 78,
      "outputs": [
        {
          "output_type": "stream",
          "name": "stdout",
          "text": [
            "99\n"
          ]
        }
      ]
    }
  ]
}